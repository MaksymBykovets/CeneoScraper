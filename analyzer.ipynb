{
 "cells": [
  {
   "cell_type": "code",
   "execution_count": null,
   "metadata": {},
   "outputs": [],
   "source": [
    "import os \n",
    "import pandas as pd\n",
    "import numpy as np\n",
    "from matplotlib import pyplot as plt\n"
   ]
  },
  {
   "cell_type": "markdown",
   "metadata": {},
   "source": [
    "Loading opinions from .json files "
   ]
  },
  {
   "cell_type": "code",
   "execution_count": null,
   "metadata": {},
   "outputs": [],
   "source": [
    "print(*[filename.split(\".\")[] for filename in os.listdir(\"./opinions\")], sep=\"\\n\")"
   ]
  },
  {
   "cell_type": "code",
   "execution_count": null,
   "metadata": {},
   "outputs": [],
   "source": [
    "product_id = input(\"Enter a product code : \")"
   ]
  },
  {
   "cell_type": "markdown",
   "metadata": {},
   "source": [
    "Basic Statistics"
   ]
  },
  {
   "cell_type": "code",
   "execution_count": null,
   "metadata": {},
   "outputs": [],
   "source": [
    "opinions_count = opinions.shape[0]\n",
    "pros_cout = opinions.pros_pl.astype(bool).sum()\n",
    "cons_cout = opinions.pros_pl.astype(bool).sum()\n",
    "prons_cons_count = opinions.apply(lambda o : bool(o.pros_pl) and bool(o.cons_pl), axis=1).sum()\n",
    "# average_rate\n",
    "\n",
    "print(f\"Number of opinions about the product : {opinions_count}\")\n",
    "print(f\"Number of opinions in which adventages have been listed : {pros_cout}\")\n",
    "print(f\"Number of opinions in which disadvantages heve been listed : {cons_cout}\")\n",
    "print(f\"Number of opinions in which advantages and disadvantages have been listed : {prons_cons_count}\")\n",
    "#print(f\"The average rate of the product: {average_rate}\")\n"
   ]
  },
  {
   "cell_type": "code",
   "execution_count": null,
   "metadata": {},
   "outputs": [],
   "source": [
    "pros = opinions.pros_en.explode().value_counts()\n",
    "pros"
   ]
  },
  {
   "cell_type": "markdown",
   "metadata": {},
   "source": [
    "Charts"
   ]
  },
  {
   "cell_type": "code",
   "execution_count": null,
   "metadata": {},
   "outputs": [],
   "source": [
    "recommendations = opinions.recommendation.value_counts(dropna=False)\n",
    "recommendations"
   ]
  },
  {
   "cell_type": "code",
   "execution_count": null,
   "metadata": {},
   "outputs": [],
   "source": [
    "recommendations.plot.ple(\n",
    "    labels = \" \"\n",
    "    labels = [\"not recommend\", \"Recommend\", \"No opinion\"]\n",
    "    autopct = \"%1.1f%\"\n",
    "    colors = [\"crimson\", \"forestgreen\", \"silver\"]\n",
    ")\n",
    "plt.show()"
   ]
  }
 ],
 "metadata": {
  "language_info": {
   "name": "python"
  }
 },
 "nbformat": 4,
 "nbformat_minor": 2
}
