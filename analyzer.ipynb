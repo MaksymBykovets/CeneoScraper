{
 "cells": [
  {
   "cell_type": "code",
   "execution_count": 14,
   "metadata": {},
   "outputs": [],
   "source": [
    "import os\n",
    "import pandas as pd\n",
    "import numpy as np\n",
    "from matplotlib import pyplot as plt\n"
   ]
  },
  {
   "cell_type": "markdown",
   "metadata": {},
   "source": [
    "Loading opinions from .json files "
   ]
  },
  {
   "cell_type": "code",
   "execution_count": 15,
   "metadata": {},
   "outputs": [
    {
     "name": "stdout",
     "output_type": "stream",
     "text": [
      "99105003\n"
     ]
    }
   ],
   "source": [
    "print(*[filename.split(\".\")[0] for filename in os.listdir(\"./opinions\")], sep=\"\\n\")"
   ]
  },
  {
   "cell_type": "code",
   "execution_count": 16,
   "metadata": {},
   "outputs": [],
   "source": [
    "product_id = input(\"Enter product code, please: \")"
   ]
  },
  {
   "cell_type": "code",
   "execution_count": 17,
   "metadata": {},
   "outputs": [
    {
     "data": {
      "text/html": [
       "<div>\n",
       "<style scoped>\n",
       "    .dataframe tbody tr th:only-of-type {\n",
       "        vertical-align: middle;\n",
       "    }\n",
       "\n",
       "    .dataframe tbody tr th {\n",
       "        vertical-align: top;\n",
       "    }\n",
       "\n",
       "    .dataframe thead th {\n",
       "        text-align: right;\n",
       "    }\n",
       "</style>\n",
       "<table border=\"1\" class=\"dataframe\">\n",
       "  <thead>\n",
       "    <tr style=\"text-align: right;\">\n",
       "      <th></th>\n",
       "      <th>opinion_id</th>\n",
       "      <th>author</th>\n",
       "      <th>recommendation</th>\n",
       "      <th>stars</th>\n",
       "      <th>content_pl</th>\n",
       "      <th>pros_pl</th>\n",
       "      <th>cons_pl</th>\n",
       "      <th>vote_yes</th>\n",
       "      <th>vote_no</th>\n",
       "      <th>published</th>\n",
       "      <th>purchased</th>\n",
       "      <th>content_en</th>\n",
       "      <th>pros_en</th>\n",
       "      <th>cons_en</th>\n",
       "    </tr>\n",
       "  </thead>\n",
       "  <tbody>\n",
       "    <tr>\n",
       "      <th>0</th>\n",
       "      <td>14268101</td>\n",
       "      <td>s...3</td>\n",
       "      <td>1.0</td>\n",
       "      <td>5.0</td>\n",
       "      <td>Laptop jest perfekcyjny, tylko nie za bardzo m...</td>\n",
       "      <td>[audio (dolby, bateria, jakość, wydajność, wyg...</td>\n",
       "      <td>[]</td>\n",
       "      <td>11</td>\n",
       "      <td>2</td>\n",
       "      <td>2021-04-10 18:42:54</td>\n",
       "      <td>2021-03-10 22:32:01</td>\n",
       "      <td>The laptop is perfect, but I don't really like...</td>\n",
       "      <td>[Audio (Dolby, battery, quality, efficiency, a...</td>\n",
       "      <td>[]</td>\n",
       "    </tr>\n",
       "    <tr>\n",
       "      <th>1</th>\n",
       "      <td>15147658</td>\n",
       "      <td>b...1</td>\n",
       "      <td>1.0</td>\n",
       "      <td>4.5</td>\n",
       "      <td>Za tą cenę - nie ma równych na rynku🔝. \\nPerfe...</td>\n",
       "      <td>[bateria, jakość, wydajność, wygląd]</td>\n",
       "      <td>[]</td>\n",
       "      <td>5</td>\n",
       "      <td>2</td>\n",
       "      <td>2021-10-30 17:23:04</td>\n",
       "      <td>2021-09-30 07:32:20</td>\n",
       "      <td>For the price - there is no equal on the marke...</td>\n",
       "      <td>[battery, quality, efficiency, appearance]</td>\n",
       "      <td>[]</td>\n",
       "    </tr>\n",
       "    <tr>\n",
       "      <th>2</th>\n",
       "      <td>14228418</td>\n",
       "      <td>s...e</td>\n",
       "      <td>1.0</td>\n",
       "      <td>5.0</td>\n",
       "      <td>Jakość wykonania na najwyższym poziomie, pojem...</td>\n",
       "      <td>[audio (dolby, bateria, jakość, wydajność, wyg...</td>\n",
       "      <td>[]</td>\n",
       "      <td>3</td>\n",
       "      <td>4</td>\n",
       "      <td>2021-04-04 00:45:49</td>\n",
       "      <td>2021-03-17 10:32:40</td>\n",
       "      <td>The quality of workmanship at the highest leve...</td>\n",
       "      <td>[Audio (Dolby, battery, quality, efficiency, a...</td>\n",
       "      <td>[]</td>\n",
       "    </tr>\n",
       "    <tr>\n",
       "      <th>3</th>\n",
       "      <td>13786487</td>\n",
       "      <td>Tomasz</td>\n",
       "      <td>1.0</td>\n",
       "      <td>5.0</td>\n",
       "      <td>Jeszcze przed Sylwestrem 2020 kupiłem nowy mod...</td>\n",
       "      <td>[bateria, jakość, wydajność, wygląd]</td>\n",
       "      <td>[]</td>\n",
       "      <td>3</td>\n",
       "      <td>1</td>\n",
       "      <td>2021-01-17 11:26:10</td>\n",
       "      <td>None</td>\n",
       "      <td>Even before New Year's Eve 2020 I bought a new...</td>\n",
       "      <td>[battery, quality, efficiency, appearance]</td>\n",
       "      <td>[]</td>\n",
       "    </tr>\n",
       "    <tr>\n",
       "      <th>4</th>\n",
       "      <td>14313169</td>\n",
       "      <td>k...k</td>\n",
       "      <td>1.0</td>\n",
       "      <td>5.0</td>\n",
       "      <td>Jako użytkownik systemu windows i laptopów/kom...</td>\n",
       "      <td>[audio (dolby, bateria, jakość, wydajność, wyg...</td>\n",
       "      <td>[]</td>\n",
       "      <td>0</td>\n",
       "      <td>0</td>\n",
       "      <td>2021-04-18 20:07:28</td>\n",
       "      <td>2021-04-13 23:01:00</td>\n",
       "      <td>As a user of Windows and laptops/computers bas...</td>\n",
       "      <td>[Audio (Dolby, battery, quality, efficiency, a...</td>\n",
       "      <td>[]</td>\n",
       "    </tr>\n",
       "    <tr>\n",
       "      <th>...</th>\n",
       "      <td>...</td>\n",
       "      <td>...</td>\n",
       "      <td>...</td>\n",
       "      <td>...</td>\n",
       "      <td>...</td>\n",
       "      <td>...</td>\n",
       "      <td>...</td>\n",
       "      <td>...</td>\n",
       "      <td>...</td>\n",
       "      <td>...</td>\n",
       "      <td>...</td>\n",
       "      <td>...</td>\n",
       "      <td>...</td>\n",
       "      <td>...</td>\n",
       "    </tr>\n",
       "    <tr>\n",
       "      <th>170</th>\n",
       "      <td>13393559</td>\n",
       "      <td>Aleksander</td>\n",
       "      <td>1.0</td>\n",
       "      <td>5.0</td>\n",
       "      <td>Świetny sprzęt.</td>\n",
       "      <td>[bateria, jakość, wydajność, wygląd]</td>\n",
       "      <td>[]</td>\n",
       "      <td>5</td>\n",
       "      <td>2</td>\n",
       "      <td>2020-11-17 17:08:24</td>\n",
       "      <td>None</td>\n",
       "      <td>Great equipment.</td>\n",
       "      <td>[battery, quality, efficiency, appearance]</td>\n",
       "      <td>[]</td>\n",
       "    </tr>\n",
       "    <tr>\n",
       "      <th>171</th>\n",
       "      <td>13992004</td>\n",
       "      <td>b...8</td>\n",
       "      <td>0.0</td>\n",
       "      <td>0.5</td>\n",
       "      <td>Nie wiem bo czekam od miesiąca</td>\n",
       "      <td>[]</td>\n",
       "      <td>[]</td>\n",
       "      <td>0</td>\n",
       "      <td>5</td>\n",
       "      <td>2021-02-20 10:17:59</td>\n",
       "      <td>2021-01-29 10:54:05</td>\n",
       "      <td>I don't know because I have been waiting for a...</td>\n",
       "      <td>[]</td>\n",
       "      <td>[]</td>\n",
       "    </tr>\n",
       "    <tr>\n",
       "      <th>172</th>\n",
       "      <td>15441390</td>\n",
       "      <td>m...k</td>\n",
       "      <td>0.0</td>\n",
       "      <td>0.5</td>\n",
       "      <td>Szrot</td>\n",
       "      <td>[]</td>\n",
       "      <td>[bateria, jakość, wydajność, wygląd]</td>\n",
       "      <td>1</td>\n",
       "      <td>4</td>\n",
       "      <td>2021-12-28 15:42:04</td>\n",
       "      <td>2021-12-21 14:41:52</td>\n",
       "      <td>Script</td>\n",
       "      <td>[]</td>\n",
       "      <td>[battery, quality, efficiency, appearance]</td>\n",
       "    </tr>\n",
       "    <tr>\n",
       "      <th>173</th>\n",
       "      <td>13541695</td>\n",
       "      <td>Użytkownik Ceneo</td>\n",
       "      <td>0.0</td>\n",
       "      <td>1.0</td>\n",
       "      <td>Ten komputer nie został wyprodukowany oprócz k...</td>\n",
       "      <td>[wygląd]</td>\n",
       "      <td>[bateria, jakość, wydajność]</td>\n",
       "      <td>1</td>\n",
       "      <td>12</td>\n",
       "      <td>2020-12-09 21:04:04</td>\n",
       "      <td>None</td>\n",
       "      <td>This computer was not produced except for a fe...</td>\n",
       "      <td>[appearance]</td>\n",
       "      <td>[battery, quality, efficiency]</td>\n",
       "    </tr>\n",
       "    <tr>\n",
       "      <th>174</th>\n",
       "      <td>13552743</td>\n",
       "      <td>Użytkownik Ceneo</td>\n",
       "      <td>0.0</td>\n",
       "      <td>1.0</td>\n",
       "      <td>Ten laptop dobry jest tylko w reklamie. Zamówi...</td>\n",
       "      <td>[]</td>\n",
       "      <td>[bateria, jakość, wydajność, wygląd]</td>\n",
       "      <td>1</td>\n",
       "      <td>8</td>\n",
       "      <td>2020-12-10 21:15:58</td>\n",
       "      <td>None</td>\n",
       "      <td>This laptop is good only in advertising. Order...</td>\n",
       "      <td>[]</td>\n",
       "      <td>[battery, quality, efficiency, appearance]</td>\n",
       "    </tr>\n",
       "  </tbody>\n",
       "</table>\n",
       "<p>175 rows × 14 columns</p>\n",
       "</div>"
      ],
      "text/plain": [
       "     opinion_id            author  recommendation  stars  \\\n",
       "0      14268101             s...3             1.0    5.0   \n",
       "1      15147658             b...1             1.0    4.5   \n",
       "2      14228418             s...e             1.0    5.0   \n",
       "3      13786487            Tomasz             1.0    5.0   \n",
       "4      14313169             k...k             1.0    5.0   \n",
       "..          ...               ...             ...    ...   \n",
       "170    13393559        Aleksander             1.0    5.0   \n",
       "171    13992004             b...8             0.0    0.5   \n",
       "172    15441390             m...k             0.0    0.5   \n",
       "173    13541695  Użytkownik Ceneo             0.0    1.0   \n",
       "174    13552743  Użytkownik Ceneo             0.0    1.0   \n",
       "\n",
       "                                            content_pl  \\\n",
       "0    Laptop jest perfekcyjny, tylko nie za bardzo m...   \n",
       "1    Za tą cenę - nie ma równych na rynku🔝. \\nPerfe...   \n",
       "2    Jakość wykonania na najwyższym poziomie, pojem...   \n",
       "3    Jeszcze przed Sylwestrem 2020 kupiłem nowy mod...   \n",
       "4    Jako użytkownik systemu windows i laptopów/kom...   \n",
       "..                                                 ...   \n",
       "170                                    Świetny sprzęt.   \n",
       "171                     Nie wiem bo czekam od miesiąca   \n",
       "172                                              Szrot   \n",
       "173  Ten komputer nie został wyprodukowany oprócz k...   \n",
       "174  Ten laptop dobry jest tylko w reklamie. Zamówi...   \n",
       "\n",
       "                                               pros_pl  \\\n",
       "0    [audio (dolby, bateria, jakość, wydajność, wyg...   \n",
       "1                 [bateria, jakość, wydajność, wygląd]   \n",
       "2    [audio (dolby, bateria, jakość, wydajność, wyg...   \n",
       "3                 [bateria, jakość, wydajność, wygląd]   \n",
       "4    [audio (dolby, bateria, jakość, wydajność, wyg...   \n",
       "..                                                 ...   \n",
       "170               [bateria, jakość, wydajność, wygląd]   \n",
       "171                                                 []   \n",
       "172                                                 []   \n",
       "173                                           [wygląd]   \n",
       "174                                                 []   \n",
       "\n",
       "                                  cons_pl  vote_yes  vote_no  \\\n",
       "0                                      []        11        2   \n",
       "1                                      []         5        2   \n",
       "2                                      []         3        4   \n",
       "3                                      []         3        1   \n",
       "4                                      []         0        0   \n",
       "..                                    ...       ...      ...   \n",
       "170                                    []         5        2   \n",
       "171                                    []         0        5   \n",
       "172  [bateria, jakość, wydajność, wygląd]         1        4   \n",
       "173          [bateria, jakość, wydajność]         1       12   \n",
       "174  [bateria, jakość, wydajność, wygląd]         1        8   \n",
       "\n",
       "               published            purchased  \\\n",
       "0    2021-04-10 18:42:54  2021-03-10 22:32:01   \n",
       "1    2021-10-30 17:23:04  2021-09-30 07:32:20   \n",
       "2    2021-04-04 00:45:49  2021-03-17 10:32:40   \n",
       "3    2021-01-17 11:26:10                 None   \n",
       "4    2021-04-18 20:07:28  2021-04-13 23:01:00   \n",
       "..                   ...                  ...   \n",
       "170  2020-11-17 17:08:24                 None   \n",
       "171  2021-02-20 10:17:59  2021-01-29 10:54:05   \n",
       "172  2021-12-28 15:42:04  2021-12-21 14:41:52   \n",
       "173  2020-12-09 21:04:04                 None   \n",
       "174  2020-12-10 21:15:58                 None   \n",
       "\n",
       "                                            content_en  \\\n",
       "0    The laptop is perfect, but I don't really like...   \n",
       "1    For the price - there is no equal on the marke...   \n",
       "2    The quality of workmanship at the highest leve...   \n",
       "3    Even before New Year's Eve 2020 I bought a new...   \n",
       "4    As a user of Windows and laptops/computers bas...   \n",
       "..                                                 ...   \n",
       "170                                   Great equipment.   \n",
       "171  I don't know because I have been waiting for a...   \n",
       "172                                             Script   \n",
       "173  This computer was not produced except for a fe...   \n",
       "174  This laptop is good only in advertising. Order...   \n",
       "\n",
       "                                               pros_en  \\\n",
       "0    [Audio (Dolby, battery, quality, efficiency, a...   \n",
       "1           [battery, quality, efficiency, appearance]   \n",
       "2    [Audio (Dolby, battery, quality, efficiency, a...   \n",
       "3           [battery, quality, efficiency, appearance]   \n",
       "4    [Audio (Dolby, battery, quality, efficiency, a...   \n",
       "..                                                 ...   \n",
       "170         [battery, quality, efficiency, appearance]   \n",
       "171                                                 []   \n",
       "172                                                 []   \n",
       "173                                       [appearance]   \n",
       "174                                                 []   \n",
       "\n",
       "                                        cons_en  \n",
       "0                                            []  \n",
       "1                                            []  \n",
       "2                                            []  \n",
       "3                                            []  \n",
       "4                                            []  \n",
       "..                                          ...  \n",
       "170                                          []  \n",
       "171                                          []  \n",
       "172  [battery, quality, efficiency, appearance]  \n",
       "173              [battery, quality, efficiency]  \n",
       "174  [battery, quality, efficiency, appearance]  \n",
       "\n",
       "[175 rows x 14 columns]"
      ]
     },
     "execution_count": 17,
     "metadata": {},
     "output_type": "execute_result"
    }
   ],
   "source": [
    "opinions = pd.read_json(f\"./opinions/{product_id}.json\")\n",
    "opinions"
   ]
  },
  {
   "cell_type": "markdown",
   "metadata": {},
   "source": [
    "Basic Statistics"
   ]
  },
  {
   "cell_type": "code",
   "execution_count": 18,
   "metadata": {},
   "outputs": [
    {
     "name": "stdout",
     "output_type": "stream",
     "text": [
      "Number of opinins about the product: 175\n",
      "Number of opinions in which advantages have been listed: 108\n",
      "Number of opinions in which disadvantages have been listed: 9\n",
      "Number of opinions in which both advantages and disadvantages have been listed: 4\n",
      "The average rate of the product: 4.79\n"
     ]
    }
   ],
   "source": [
    "opinions_count = opinions.shape[0]\n",
    "pros_count = opinions.pros_pl.astype(bool).sum()\n",
    "cons_count = opinions.cons_pl.astype(bool).sum()\n",
    "pros_cons_count = opinions.apply(lambda o: bool(o.pros_pl) and bool(o.cons_pl), axis=1).sum()\n",
    "average_rate = opinions.stars.mean()\n",
    "print(f\"Number of opinins about the product: {opinions_count}\")\n",
    "print(f\"Number of opinions in which advantages have been listed: {pros_count}\")\n",
    "print(f\"Number of opinions in which disadvantages have been listed: {cons_count}\")\n",
    "print(f\"Number of opinions in which both advantages and disadvantages have been listed: {pros_cons_count}\")\n",
    "print(f\"The average rate of the product: {average_rate:.2f}\")\n"
   ]
  },
  {
   "cell_type": "code",
   "execution_count": 19,
   "metadata": {},
   "outputs": [
    {
     "name": "stdout",
     "output_type": "stream",
     "text": [
      "pros_en\n",
      "efficiency      107\n",
      "quality         106\n",
      "battery         106\n",
      "appearance      105\n",
      "Audio (Dolby     22\n",
      "Name: count, dtype: int64\n",
      "cons_en\n",
      "battery         7\n",
      "quality         7\n",
      "efficiency      6\n",
      "appearance      6\n",
      "Audio (Dolby    1\n",
      "Name: count, dtype: int64\n"
     ]
    }
   ],
   "source": [
    "pros = opinions.pros_en.explode().value_counts()\n",
    "cons = opinions.cons_en.explode().value_counts()\n",
    "print(pros)\n",
    "print(cons)\n"
   ]
  },
  {
   "cell_type": "markdown",
   "metadata": {},
   "source": [
    "Charts"
   ]
  },
  {
   "cell_type": "code",
   "execution_count": 20,
   "metadata": {},
   "outputs": [],
   "source": [
    "if not os.path.exists(\"./pie_charts\"): \n",
    "    os.mkdir(\"./pie_charts\")\n",
    "if not os.path.exists(\"./bar_charts\"): \n",
    "    os.mkdir(\"./bar_charts\")"
   ]
  },
  {
   "cell_type": "code",
   "execution_count": 21,
   "metadata": {},
   "outputs": [
    {
     "data": {
      "text/plain": [
       "recommendation\n",
       "False      6\n",
       "True     167\n",
       "NaN        2\n",
       "Name: count, dtype: int64"
      ]
     },
     "execution_count": 21,
     "metadata": {},
     "output_type": "execute_result"
    }
   ],
   "source": [
    "recommendations = opinions.recommendation.value_counts(dropna=False).reindex([False, True, np.nan], fill_value=0)\n",
    "recommendations\n"
   ]
  },
  {
   "cell_type": "code",
   "execution_count": 22,
   "metadata": {},
   "outputs": [
    {
     "ename": "FileNotFoundError",
     "evalue": "[Errno 2] No such file or directory: './pie_chart/99105003.png'",
     "output_type": "error",
     "traceback": [
      "\u001b[31m---------------------------------------------------------------------------\u001b[39m",
      "\u001b[31mFileNotFoundError\u001b[39m                         Traceback (most recent call last)",
      "\u001b[36mCell\u001b[39m\u001b[36m \u001b[39m\u001b[32mIn[22]\u001b[39m\u001b[32m, line 8\u001b[39m\n\u001b[32m      1\u001b[39m recommendations.plot.pie(\n\u001b[32m      2\u001b[39m     label = \u001b[33m\"\u001b[39m\u001b[33m\"\u001b[39m,\n\u001b[32m      3\u001b[39m     labels = [\u001b[33m\"\u001b[39m\u001b[33mNot recommend\u001b[39m\u001b[33m\"\u001b[39m, \u001b[33m\"\u001b[39m\u001b[33mRecommend\u001b[39m\u001b[33m\"\u001b[39m, \u001b[33m\"\u001b[39m\u001b[33mNo opinion\u001b[39m\u001b[33m\"\u001b[39m],\n\u001b[32m   (...)\u001b[39m\u001b[32m      6\u001b[39m     title = \u001b[33mf\u001b[39m\u001b[33m\"\u001b[39m\u001b[33mShare of recommendations in the total number of opinions \u001b[39m\u001b[38;5;130;01m\\n\u001b[39;00m\u001b[33mabout the product \u001b[39m\u001b[38;5;132;01m{\u001b[39;00mproduct_id\u001b[38;5;132;01m}\u001b[39;00m\u001b[33m\"\u001b[39m\n\u001b[32m      7\u001b[39m )\n\u001b[32m----> \u001b[39m\u001b[32m8\u001b[39m \u001b[43mplt\u001b[49m\u001b[43m.\u001b[49m\u001b[43msavefig\u001b[49m\u001b[43m(\u001b[49m\u001b[33;43mf\u001b[39;49m\u001b[33;43m\"\u001b[39;49m\u001b[33;43m./pie_chart/\u001b[39;49m\u001b[38;5;132;43;01m{\u001b[39;49;00m\u001b[43mproduct_id\u001b[49m\u001b[38;5;132;43;01m}\u001b[39;49;00m\u001b[33;43m.png\u001b[39;49m\u001b[33;43m\"\u001b[39;49m\u001b[43m)\u001b[49m\n\u001b[32m      9\u001b[39m plt.close()\n",
      "\u001b[36mFile \u001b[39m\u001b[32md:\\Mas\\CeneoScraper\\.venv\\Lib\\site-packages\\matplotlib\\pyplot.py:1243\u001b[39m, in \u001b[36msavefig\u001b[39m\u001b[34m(*args, **kwargs)\u001b[39m\n\u001b[32m   1240\u001b[39m fig = gcf()\n\u001b[32m   1241\u001b[39m \u001b[38;5;66;03m# savefig default implementation has no return, so mypy is unhappy\u001b[39;00m\n\u001b[32m   1242\u001b[39m \u001b[38;5;66;03m# presumably this is here because subclasses can return?\u001b[39;00m\n\u001b[32m-> \u001b[39m\u001b[32m1243\u001b[39m res = \u001b[43mfig\u001b[49m\u001b[43m.\u001b[49m\u001b[43msavefig\u001b[49m\u001b[43m(\u001b[49m\u001b[43m*\u001b[49m\u001b[43margs\u001b[49m\u001b[43m,\u001b[49m\u001b[43m \u001b[49m\u001b[43m*\u001b[49m\u001b[43m*\u001b[49m\u001b[43mkwargs\u001b[49m\u001b[43m)\u001b[49m  \u001b[38;5;66;03m# type: ignore[func-returns-value]\u001b[39;00m\n\u001b[32m   1244\u001b[39m fig.canvas.draw_idle()  \u001b[38;5;66;03m# Need this if 'transparent=True', to reset colors.\u001b[39;00m\n\u001b[32m   1245\u001b[39m \u001b[38;5;28;01mreturn\u001b[39;00m res\n",
      "\u001b[36mFile \u001b[39m\u001b[32md:\\Mas\\CeneoScraper\\.venv\\Lib\\site-packages\\matplotlib\\figure.py:3490\u001b[39m, in \u001b[36mFigure.savefig\u001b[39m\u001b[34m(self, fname, transparent, **kwargs)\u001b[39m\n\u001b[32m   3488\u001b[39m     \u001b[38;5;28;01mfor\u001b[39;00m ax \u001b[38;5;129;01min\u001b[39;00m \u001b[38;5;28mself\u001b[39m.axes:\n\u001b[32m   3489\u001b[39m         _recursively_make_axes_transparent(stack, ax)\n\u001b[32m-> \u001b[39m\u001b[32m3490\u001b[39m \u001b[38;5;28;43mself\u001b[39;49m\u001b[43m.\u001b[49m\u001b[43mcanvas\u001b[49m\u001b[43m.\u001b[49m\u001b[43mprint_figure\u001b[49m\u001b[43m(\u001b[49m\u001b[43mfname\u001b[49m\u001b[43m,\u001b[49m\u001b[43m \u001b[49m\u001b[43m*\u001b[49m\u001b[43m*\u001b[49m\u001b[43mkwargs\u001b[49m\u001b[43m)\u001b[49m\n",
      "\u001b[36mFile \u001b[39m\u001b[32md:\\Mas\\CeneoScraper\\.venv\\Lib\\site-packages\\matplotlib\\backend_bases.py:2184\u001b[39m, in \u001b[36mFigureCanvasBase.print_figure\u001b[39m\u001b[34m(self, filename, dpi, facecolor, edgecolor, orientation, format, bbox_inches, pad_inches, bbox_extra_artists, backend, **kwargs)\u001b[39m\n\u001b[32m   2180\u001b[39m \u001b[38;5;28;01mtry\u001b[39;00m:\n\u001b[32m   2181\u001b[39m     \u001b[38;5;66;03m# _get_renderer may change the figure dpi (as vector formats\u001b[39;00m\n\u001b[32m   2182\u001b[39m     \u001b[38;5;66;03m# force the figure dpi to 72), so we need to set it again here.\u001b[39;00m\n\u001b[32m   2183\u001b[39m     \u001b[38;5;28;01mwith\u001b[39;00m cbook._setattr_cm(\u001b[38;5;28mself\u001b[39m.figure, dpi=dpi):\n\u001b[32m-> \u001b[39m\u001b[32m2184\u001b[39m         result = \u001b[43mprint_method\u001b[49m\u001b[43m(\u001b[49m\n\u001b[32m   2185\u001b[39m \u001b[43m            \u001b[49m\u001b[43mfilename\u001b[49m\u001b[43m,\u001b[49m\n\u001b[32m   2186\u001b[39m \u001b[43m            \u001b[49m\u001b[43mfacecolor\u001b[49m\u001b[43m=\u001b[49m\u001b[43mfacecolor\u001b[49m\u001b[43m,\u001b[49m\n\u001b[32m   2187\u001b[39m \u001b[43m            \u001b[49m\u001b[43medgecolor\u001b[49m\u001b[43m=\u001b[49m\u001b[43medgecolor\u001b[49m\u001b[43m,\u001b[49m\n\u001b[32m   2188\u001b[39m \u001b[43m            \u001b[49m\u001b[43morientation\u001b[49m\u001b[43m=\u001b[49m\u001b[43morientation\u001b[49m\u001b[43m,\u001b[49m\n\u001b[32m   2189\u001b[39m \u001b[43m            \u001b[49m\u001b[43mbbox_inches_restore\u001b[49m\u001b[43m=\u001b[49m\u001b[43m_bbox_inches_restore\u001b[49m\u001b[43m,\u001b[49m\n\u001b[32m   2190\u001b[39m \u001b[43m            \u001b[49m\u001b[43m*\u001b[49m\u001b[43m*\u001b[49m\u001b[43mkwargs\u001b[49m\u001b[43m)\u001b[49m\n\u001b[32m   2191\u001b[39m \u001b[38;5;28;01mfinally\u001b[39;00m:\n\u001b[32m   2192\u001b[39m     \u001b[38;5;28;01mif\u001b[39;00m bbox_inches \u001b[38;5;129;01mand\u001b[39;00m restore_bbox:\n",
      "\u001b[36mFile \u001b[39m\u001b[32md:\\Mas\\CeneoScraper\\.venv\\Lib\\site-packages\\matplotlib\\backend_bases.py:2040\u001b[39m, in \u001b[36mFigureCanvasBase._switch_canvas_and_return_print_method.<locals>.<lambda>\u001b[39m\u001b[34m(*args, **kwargs)\u001b[39m\n\u001b[32m   2036\u001b[39m     optional_kws = {  \u001b[38;5;66;03m# Passed by print_figure for other renderers.\u001b[39;00m\n\u001b[32m   2037\u001b[39m         \u001b[33m\"\u001b[39m\u001b[33mdpi\u001b[39m\u001b[33m\"\u001b[39m, \u001b[33m\"\u001b[39m\u001b[33mfacecolor\u001b[39m\u001b[33m\"\u001b[39m, \u001b[33m\"\u001b[39m\u001b[33medgecolor\u001b[39m\u001b[33m\"\u001b[39m, \u001b[33m\"\u001b[39m\u001b[33morientation\u001b[39m\u001b[33m\"\u001b[39m,\n\u001b[32m   2038\u001b[39m         \u001b[33m\"\u001b[39m\u001b[33mbbox_inches_restore\u001b[39m\u001b[33m\"\u001b[39m}\n\u001b[32m   2039\u001b[39m     skip = optional_kws - {*inspect.signature(meth).parameters}\n\u001b[32m-> \u001b[39m\u001b[32m2040\u001b[39m     print_method = functools.wraps(meth)(\u001b[38;5;28;01mlambda\u001b[39;00m *args, **kwargs: \u001b[43mmeth\u001b[49m\u001b[43m(\u001b[49m\n\u001b[32m   2041\u001b[39m \u001b[43m        \u001b[49m\u001b[43m*\u001b[49m\u001b[43margs\u001b[49m\u001b[43m,\u001b[49m\u001b[43m \u001b[49m\u001b[43m*\u001b[49m\u001b[43m*\u001b[49m\u001b[43m{\u001b[49m\u001b[43mk\u001b[49m\u001b[43m:\u001b[49m\u001b[43m \u001b[49m\u001b[43mv\u001b[49m\u001b[43m \u001b[49m\u001b[38;5;28;43;01mfor\u001b[39;49;00m\u001b[43m \u001b[49m\u001b[43mk\u001b[49m\u001b[43m,\u001b[49m\u001b[43m \u001b[49m\u001b[43mv\u001b[49m\u001b[43m \u001b[49m\u001b[38;5;129;43;01min\u001b[39;49;00m\u001b[43m \u001b[49m\u001b[43mkwargs\u001b[49m\u001b[43m.\u001b[49m\u001b[43mitems\u001b[49m\u001b[43m(\u001b[49m\u001b[43m)\u001b[49m\u001b[43m \u001b[49m\u001b[38;5;28;43;01mif\u001b[39;49;00m\u001b[43m \u001b[49m\u001b[43mk\u001b[49m\u001b[43m \u001b[49m\u001b[38;5;129;43;01mnot\u001b[39;49;00m\u001b[43m \u001b[49m\u001b[38;5;129;43;01min\u001b[39;49;00m\u001b[43m \u001b[49m\u001b[43mskip\u001b[49m\u001b[43m}\u001b[49m\u001b[43m)\u001b[49m)\n\u001b[32m   2042\u001b[39m \u001b[38;5;28;01melse\u001b[39;00m:  \u001b[38;5;66;03m# Let third-parties do as they see fit.\u001b[39;00m\n\u001b[32m   2043\u001b[39m     print_method = meth\n",
      "\u001b[36mFile \u001b[39m\u001b[32md:\\Mas\\CeneoScraper\\.venv\\Lib\\site-packages\\matplotlib\\backends\\backend_agg.py:481\u001b[39m, in \u001b[36mFigureCanvasAgg.print_png\u001b[39m\u001b[34m(self, filename_or_obj, metadata, pil_kwargs)\u001b[39m\n\u001b[32m    434\u001b[39m \u001b[38;5;28;01mdef\u001b[39;00m\u001b[38;5;250m \u001b[39m\u001b[34mprint_png\u001b[39m(\u001b[38;5;28mself\u001b[39m, filename_or_obj, *, metadata=\u001b[38;5;28;01mNone\u001b[39;00m, pil_kwargs=\u001b[38;5;28;01mNone\u001b[39;00m):\n\u001b[32m    435\u001b[39m \u001b[38;5;250m    \u001b[39m\u001b[33;03m\"\"\"\u001b[39;00m\n\u001b[32m    436\u001b[39m \u001b[33;03m    Write the figure to a PNG file.\u001b[39;00m\n\u001b[32m    437\u001b[39m \n\u001b[32m   (...)\u001b[39m\u001b[32m    479\u001b[39m \u001b[33;03m        *metadata*, including the default 'Software' key.\u001b[39;00m\n\u001b[32m    480\u001b[39m \u001b[33;03m    \"\"\"\u001b[39;00m\n\u001b[32m--> \u001b[39m\u001b[32m481\u001b[39m     \u001b[38;5;28;43mself\u001b[39;49m\u001b[43m.\u001b[49m\u001b[43m_print_pil\u001b[49m\u001b[43m(\u001b[49m\u001b[43mfilename_or_obj\u001b[49m\u001b[43m,\u001b[49m\u001b[43m \u001b[49m\u001b[33;43m\"\u001b[39;49m\u001b[33;43mpng\u001b[39;49m\u001b[33;43m\"\u001b[39;49m\u001b[43m,\u001b[49m\u001b[43m \u001b[49m\u001b[43mpil_kwargs\u001b[49m\u001b[43m,\u001b[49m\u001b[43m \u001b[49m\u001b[43mmetadata\u001b[49m\u001b[43m)\u001b[49m\n",
      "\u001b[36mFile \u001b[39m\u001b[32md:\\Mas\\CeneoScraper\\.venv\\Lib\\site-packages\\matplotlib\\backends\\backend_agg.py:430\u001b[39m, in \u001b[36mFigureCanvasAgg._print_pil\u001b[39m\u001b[34m(self, filename_or_obj, fmt, pil_kwargs, metadata)\u001b[39m\n\u001b[32m    425\u001b[39m \u001b[38;5;250m\u001b[39m\u001b[33;03m\"\"\"\u001b[39;00m\n\u001b[32m    426\u001b[39m \u001b[33;03mDraw the canvas, then save it using `.image.imsave` (to which\u001b[39;00m\n\u001b[32m    427\u001b[39m \u001b[33;03m*pil_kwargs* and *metadata* are forwarded).\u001b[39;00m\n\u001b[32m    428\u001b[39m \u001b[33;03m\"\"\"\u001b[39;00m\n\u001b[32m    429\u001b[39m FigureCanvasAgg.draw(\u001b[38;5;28mself\u001b[39m)\n\u001b[32m--> \u001b[39m\u001b[32m430\u001b[39m \u001b[43mmpl\u001b[49m\u001b[43m.\u001b[49m\u001b[43mimage\u001b[49m\u001b[43m.\u001b[49m\u001b[43mimsave\u001b[49m\u001b[43m(\u001b[49m\n\u001b[32m    431\u001b[39m \u001b[43m    \u001b[49m\u001b[43mfilename_or_obj\u001b[49m\u001b[43m,\u001b[49m\u001b[43m \u001b[49m\u001b[38;5;28;43mself\u001b[39;49m\u001b[43m.\u001b[49m\u001b[43mbuffer_rgba\u001b[49m\u001b[43m(\u001b[49m\u001b[43m)\u001b[49m\u001b[43m,\u001b[49m\u001b[43m \u001b[49m\u001b[38;5;28;43mformat\u001b[39;49m\u001b[43m=\u001b[49m\u001b[43mfmt\u001b[49m\u001b[43m,\u001b[49m\u001b[43m \u001b[49m\u001b[43morigin\u001b[49m\u001b[43m=\u001b[49m\u001b[33;43m\"\u001b[39;49m\u001b[33;43mupper\u001b[39;49m\u001b[33;43m\"\u001b[39;49m\u001b[43m,\u001b[49m\n\u001b[32m    432\u001b[39m \u001b[43m    \u001b[49m\u001b[43mdpi\u001b[49m\u001b[43m=\u001b[49m\u001b[38;5;28;43mself\u001b[39;49m\u001b[43m.\u001b[49m\u001b[43mfigure\u001b[49m\u001b[43m.\u001b[49m\u001b[43mdpi\u001b[49m\u001b[43m,\u001b[49m\u001b[43m \u001b[49m\u001b[43mmetadata\u001b[49m\u001b[43m=\u001b[49m\u001b[43mmetadata\u001b[49m\u001b[43m,\u001b[49m\u001b[43m \u001b[49m\u001b[43mpil_kwargs\u001b[49m\u001b[43m=\u001b[49m\u001b[43mpil_kwargs\u001b[49m\u001b[43m)\u001b[49m\n",
      "\u001b[36mFile \u001b[39m\u001b[32md:\\Mas\\CeneoScraper\\.venv\\Lib\\site-packages\\matplotlib\\image.py:1644\u001b[39m, in \u001b[36mimsave\u001b[39m\u001b[34m(fname, arr, vmin, vmax, cmap, format, origin, dpi, metadata, pil_kwargs)\u001b[39m\n\u001b[32m   1642\u001b[39m pil_kwargs.setdefault(\u001b[33m\"\u001b[39m\u001b[33mformat\u001b[39m\u001b[33m\"\u001b[39m, \u001b[38;5;28mformat\u001b[39m)\n\u001b[32m   1643\u001b[39m pil_kwargs.setdefault(\u001b[33m\"\u001b[39m\u001b[33mdpi\u001b[39m\u001b[33m\"\u001b[39m, (dpi, dpi))\n\u001b[32m-> \u001b[39m\u001b[32m1644\u001b[39m \u001b[43mimage\u001b[49m\u001b[43m.\u001b[49m\u001b[43msave\u001b[49m\u001b[43m(\u001b[49m\u001b[43mfname\u001b[49m\u001b[43m,\u001b[49m\u001b[43m \u001b[49m\u001b[43m*\u001b[49m\u001b[43m*\u001b[49m\u001b[43mpil_kwargs\u001b[49m\u001b[43m)\u001b[49m\n",
      "\u001b[36mFile \u001b[39m\u001b[32md:\\Mas\\CeneoScraper\\.venv\\Lib\\site-packages\\PIL\\Image.py:2576\u001b[39m, in \u001b[36mImage.save\u001b[39m\u001b[34m(self, fp, format, **params)\u001b[39m\n\u001b[32m   2574\u001b[39m         fp = builtins.open(filename, \u001b[33m\"\u001b[39m\u001b[33mr+b\u001b[39m\u001b[33m\"\u001b[39m)\n\u001b[32m   2575\u001b[39m     \u001b[38;5;28;01melse\u001b[39;00m:\n\u001b[32m-> \u001b[39m\u001b[32m2576\u001b[39m         fp = \u001b[43mbuiltins\u001b[49m\u001b[43m.\u001b[49m\u001b[43mopen\u001b[49m\u001b[43m(\u001b[49m\u001b[43mfilename\u001b[49m\u001b[43m,\u001b[49m\u001b[43m \u001b[49m\u001b[33;43m\"\u001b[39;49m\u001b[33;43mw+b\u001b[39;49m\u001b[33;43m\"\u001b[39;49m\u001b[43m)\u001b[49m\n\u001b[32m   2577\u001b[39m \u001b[38;5;28;01melse\u001b[39;00m:\n\u001b[32m   2578\u001b[39m     fp = cast(IO[\u001b[38;5;28mbytes\u001b[39m], fp)\n",
      "\u001b[31mFileNotFoundError\u001b[39m: [Errno 2] No such file or directory: './pie_chart/99105003.png'"
     ]
    },
    {
     "data": {
      "image/png": "[encoded data removed]",
      "text/plain": [
       "<Figure size 640x480 with 1 Axes>"
      ]
     },
     "metadata": {},
     "output_type": "display_data"
    }
   ],
   "source": [
    "recommendations.plot.pie(\n",
    "    label = \"\",\n",
    "    labels = [\"Not recommend\", \"Recommend\", \"No opinion\"],\n",
    "    colors = [\"crimson\", \"forestgreen\", \"silver\"],\n",
    "    autopct = lambda v: f\"{v:.1f}%\" if v > 0 else \"\",\n",
    "    title = f\"Share of recommendations in the total number of opinions \\nabout the product {product_id}\"\n",
    ")\n",
    "plt.savefig(f\"./pie_chart/{product_id}.png\")\n",
    "plt.close()"
   ]
  },
  {
   "cell_type": "code",
   "execution_count": 23,
   "metadata": {},
   "outputs": [
    {
     "data": {
      "text/plain": [
       "stars\n",
       "5.0    151\n",
       "4.5     13\n",
       "4.0      3\n",
       "1.0      3\n",
       "0.5      2\n",
       "3.0      1\n",
       "3.5      1\n",
       "1.5      1\n",
       "Name: count, dtype: int64"
      ]
     },
     "execution_count": 23,
     "metadata": {},
     "output_type": "execute_result"
    }
   ],
   "source": [
    "stars = opinions.stars.value_counts()\n",
    "stars"
   ]
  },
  {
   "cell_type": "code",
   "execution_count": 24,
   "metadata": {},
   "outputs": [
    {
     "data": {
      "image/png": "[encoded data removed]",
      "text/plain": [
       "<Figure size 640x480 with 1 Axes>"
      ]
     },
     "metadata": {},
     "output_type": "display_data"
    }
   ],
   "source": [
    "stars.plot.bar(\n",
    "    xlabel = \"Rate (number of stars in range 0 to 5)\",\n",
    "    ylabel = \"Count of rates (number of opinions)\",\n",
    "    title = f\"Number of opinions about the product {product_id}\\n with certain number of stars assigned\",\n",
    "    color = {\"crimson\" if x<3 else \"forestgreen\" if x>3.5 else \"silver\" for x in stars.index}\n",
    ")\n",
    "plt.xticks(rotation=0)\n",
    "plt.show()"
   ]
  }
 ],
 "metadata": {
  "kernelspec": {
   "display_name": ".venv",
   "language": "python",
   "name": "python3"
  },
  "language_info": {
   "codemirror_mode": {
    "name": "ipython",
    "version": 3
   },
   "file_extension": ".py",
   "mimetype": "text/x-python",
   "name": "python",
   "nbconvert_exporter": "python",
   "pygments_lexer": "ipython3",
   "version": "3.11.4"
  }
 },
 "nbformat": 4,
 "nbformat_minor": 2
}
