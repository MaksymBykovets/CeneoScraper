{
 "cells": [
  {
   "cell_type": "markdown",
   "metadata": {},
   "source": [
    "Imports"
   ]
  },
  {
   "cell_type": "code",
   "execution_count": 8,
   "metadata": {},
   "outputs": [],
   "source": [
    "import os\n",
    "import json\n",
    "import requests\n",
    "from bs4 import BeautifulSoup"
   ]
  },
  {
   "cell_type": "markdown",
   "metadata": {},
   "source": [
    "Utils\n"
   ]
  },
  {
   "cell_type": "code",
   "execution_count": 9,
   "metadata": {},
   "outputs": [],
   "source": [
    "def extract(ancestor, selector, attribute=None, multiple=False):\n",
    "    if selector: \n",
    "        if multiple:\n",
    "            if attribute:\n",
    "                return [tag[attribute] for tag in ancestor.select(selector)]\n",
    "            return [tag.get_text() for tag in ancestor.select(selector)]\n",
    "        if attribute:\n",
    "            try:\n",
    "                return ancestor.select_one(selector)[attribute]\n",
    "            except TypeError:\n",
    "                return None\n",
    "        try:\n",
    "            return ancestor.select_one(selector).get_text()\n",
    "        except AttributeError:\n",
    "            return None\n",
    "    try: \n",
    "        return ancestor[attribute]\n",
    "    except (TypeError, KeyError):\n",
    "        return None\n"
   ]
  },
  {
   "cell_type": "markdown",
   "metadata": {},
   "source": [
    "Extraction of opinions "
   ]
  },
  {
   "cell_type": "code",
   "execution_count": 10,
   "metadata": {},
   "outputs": [],
   "source": [
    "selectors = {\n",
    "    \"opinion_id\": (None, \"data-entry-id\"),\n",
    "    \"author\": (\"span.user-post__author-name\",),\n",
    "    \"recommendation\":  (\"span.user-post__author-recomendation > em\"),\n",
    "    \"stars\": (\"span.user-post__score-count\"),\n",
    "    \"content\": (\"div.user-post__text\"),\n",
    "    \"pros\": (\"div.review-feature__item--positive\", None, True),\n",
    "    \"cons\": (\"div.review-feature__item--negative\", None, True),\n",
    "    \"vote_yes\": (\"button.vote-yes\",\"data-total-vote\"),\n",
    "    \"vote_no\":  (\"button.vote-no\",\"data-total-vote\"),\n",
    "    \"published\": (\"span.user-post__published > time:nth-child(1)\",\"datetime\"),\n",
    "    \"purchased\": (\"span.user-post__published > time:nth-child(2)\",\"datetime\"),\n",
    "}"
   ]
  },
  {
   "cell_type": "code",
   "execution_count": 11,
   "metadata": {},
   "outputs": [],
   "source": [
    "with open(\"./cookie.json\", \"r\") as jf:\n",
    "    headers = json.load(jf)"
   ]
  },
  {
   "cell_type": "code",
   "execution_count": 13,
   "metadata": {},
   "outputs": [
    {
     "name": "stdout",
     "output_type": "stream",
     "text": [
      "https://www.ceneo.pl/84514582#tab=reviews\n",
      "10\n"
     ]
    },
    {
     "ename": "TypeError",
     "evalue": "extract() takes from 2 to 4 positional arguments but 42 were given",
     "output_type": "error",
     "traceback": [
      "\u001b[31m---------------------------------------------------------------------------\u001b[39m",
      "\u001b[31mTypeError\u001b[39m                                 Traceback (most recent call last)",
      "\u001b[36mCell\u001b[39m\u001b[36m \u001b[39m\u001b[32mIn[13]\u001b[39m\u001b[32m, line 12\u001b[39m\n\u001b[32m     10\u001b[39m \u001b[38;5;28mprint\u001b[39m(\u001b[38;5;28mlen\u001b[39m(opinions))\n\u001b[32m     11\u001b[39m \u001b[38;5;28;01mfor\u001b[39;00m opinion \u001b[38;5;129;01min\u001b[39;00m opinions:\n\u001b[32m---> \u001b[39m\u001b[32m12\u001b[39m     single_opinion = \u001b[43m{\u001b[49m\n\u001b[32m     13\u001b[39m \u001b[43m        \u001b[49m\u001b[43mkey\u001b[49m\u001b[43m:\u001b[49m\u001b[43m \u001b[49m\u001b[43mextract\u001b[49m\u001b[43m(\u001b[49m\u001b[43mopinion\u001b[49m\u001b[43m,\u001b[49m\u001b[43m \u001b[49m\u001b[43m*\u001b[49m\u001b[43mvalue\u001b[49m\u001b[43m)\u001b[49m\n\u001b[32m     14\u001b[39m \u001b[43m        \u001b[49m\u001b[38;5;28;43;01mfor\u001b[39;49;00m\u001b[43m \u001b[49m\u001b[43mkey\u001b[49m\u001b[43m,\u001b[49m\u001b[43m \u001b[49m\u001b[43mvalue\u001b[49m\u001b[43m \u001b[49m\u001b[38;5;129;43;01min\u001b[39;49;00m\u001b[43m \u001b[49m\u001b[43mselectors\u001b[49m\u001b[43m.\u001b[49m\u001b[43mitems\u001b[49m\u001b[43m(\u001b[49m\u001b[43m)\u001b[49m\n\u001b[32m     15\u001b[39m \u001b[43m    \u001b[49m\u001b[43m}\u001b[49m\n\u001b[32m     17\u001b[39m     all_opinions.append(single_opinion)\n\u001b[32m     18\u001b[39m \u001b[38;5;28;01mtry\u001b[39;00m:\n",
      "\u001b[36mCell\u001b[39m\u001b[36m \u001b[39m\u001b[32mIn[13]\u001b[39m\u001b[32m, line 13\u001b[39m, in \u001b[36m<dictcomp>\u001b[39m\u001b[34m(.0)\u001b[39m\n\u001b[32m     10\u001b[39m \u001b[38;5;28mprint\u001b[39m(\u001b[38;5;28mlen\u001b[39m(opinions))\n\u001b[32m     11\u001b[39m \u001b[38;5;28;01mfor\u001b[39;00m opinion \u001b[38;5;129;01min\u001b[39;00m opinions:\n\u001b[32m     12\u001b[39m     single_opinion = {\n\u001b[32m---> \u001b[39m\u001b[32m13\u001b[39m         key: \u001b[43mextract\u001b[49m\u001b[43m(\u001b[49m\u001b[43mopinion\u001b[49m\u001b[43m,\u001b[49m\u001b[43m \u001b[49m\u001b[43m*\u001b[49m\u001b[43mvalue\u001b[49m\u001b[43m)\u001b[49m\n\u001b[32m     14\u001b[39m         \u001b[38;5;28;01mfor\u001b[39;00m key, value \u001b[38;5;129;01min\u001b[39;00m selectors.items()\n\u001b[32m     15\u001b[39m     }\n\u001b[32m     17\u001b[39m     all_opinions.append(single_opinion)\n\u001b[32m     18\u001b[39m \u001b[38;5;28;01mtry\u001b[39;00m:\n",
      "\u001b[31mTypeError\u001b[39m: extract() takes from 2 to 4 positional arguments but 42 were given"
     ]
    }
   ],
   "source": [
    "product_id = \"84514582\"\n",
    "next_page = f\"https://www.ceneo.pl/{product_id}#tab=reviews\"\n",
    "all_opinions = []\n",
    "while next_page:\n",
    "    response = requests.get(next_page, headers = headers)\n",
    "    if response.status_code == 200:\n",
    "        print(next_page)\n",
    "        page_dom = BeautifulSoup(response.text, 'html.parser')\n",
    "        opinions = page_dom.select(\"div.js_product-review:not(.user-post--highlight)\")\n",
    "        print(len(opinions))\n",
    "        for opinion in opinions:\n",
    "            single_opinion = {\n",
    "                key: extract(opinion, *value)\n",
    "                for key, value in selectors.items()\n",
    "            }\n",
    "            \n",
    "            all_opinions.append(single_opinion)\n",
    "        try:\n",
    "            next_page = \"https://www.ceneo.pl\" + page_dom.select_one(\"a.pagination__next\")[\"href\"]\n",
    "        except TypeError:\n",
    "            next_page = None"
   ]
  },
  {
   "cell_type": "code",
   "execution_count": 5,
   "metadata": {},
   "outputs": [],
   "source": [
    "if not os.path.exists(\"./opinions\"):\n",
    "    os.mkdir(\"./opinions\")\n",
    "with open(f\"./opinions/{product_id}.json\", \"w\", encoding=\"UTF-8\") as jf:\n",
    "    json.dump(all_opinions, jf, ensure_ascii=False, indent=4)"
   ]
  }
 ],
 "metadata": {
  "kernelspec": {
   "display_name": "Python 3",
   "language": "python",
   "name": "python3"
  },
  "language_info": {
   "codemirror_mode": {
    "name": "ipython",
    "version": 3
   },
   "file_extension": ".py",
   "mimetype": "text/x-python",
   "name": "python",
   "nbconvert_exporter": "python",
   "pygments_lexer": "ipython3",
   "version": "3.11.4"
  }
 },
 "nbformat": 4,
 "nbformat_minor": 2
}
